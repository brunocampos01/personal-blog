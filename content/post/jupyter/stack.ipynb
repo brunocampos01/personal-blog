{
 "cells": [
  {
   "cell_type": "raw",
   "metadata": {},
   "source": [
    "---\n",
    "title: Stack (pilha)\n",
    "subtitle: Learn how to blog in Academic using Jupyter notebooks\n",
    "summary: Learn how to blog in Academic using Jupyter notebooks\n",
    "authors:\n",
    "- admin\n",
    "tags: []\n",
    "categories: []\n",
    "date: \"2020-02-05T00:00:00Z\"\n",
    "lastMod: \"2020-09-05T00:00:00Z\"\n",
    "featured: false\n",
    "draft: false\n",
    "\n",
    "# Featured image\n",
    "# To use, add an image named `featured.jpg/png` to your page's folder. \n",
    "image:\n",
    "  caption: \"\"\n",
    "  focal_point: \"\"\n",
    "\n",
    "# Projects (optional).\n",
    "#   Associate this post with one or more of your projects.\n",
    "#   Simply enter your project's folder or file name without extension.\n",
    "#   E.g. `projects = [\"internal-project\"]` references \n",
    "#   `content/project/deep-learning/index.md`.\n",
    "#   Otherwise, set `projects = []`.\n",
    "projects: []\n",
    "---"
   ]
  },
  {
   "cell_type": "markdown",
   "metadata": {},
   "source": [
    "## Stack\n",
    "\n",
    "---\n",
    "\n",
    "\n",
    "<img src=\"http://fistfuloftalent.com/wp-content/uploads/2018/05/perfectstack.jpg\" align=\"right\" width=\"300\" weight=\"300\" />\n",
    "\n",
    "- O novo elemento é sempre inserido no topo da pilha, ou seja, ao final da pilha e a remoção também é feita no topo da pilha, ou seja, vai removendo do ultimo elemento até o primeiro elemento da pilha.\n",
    "\n",
    "- **FILO - First In Last Out**: Na Stack o primeiro elemento a ser inserido é o último a ser removido \n",
    "\n",
    "- A inserção é chamada de push e a remoção de pop\n",
    "\n",
    "- Exemplos de uso:\n",
    "...\n"
   ]
  },
  {
   "cell_type": "markdown",
   "metadata": {},
   "source": [
    "---"
   ]
  },
  {
   "cell_type": "code",
   "execution_count": 1,
   "metadata": {},
   "outputs": [
    {
     "name": "stdout",
     "output_type": "stream",
     "text": [
      "class Stack(object):\n",
      "    \"\"\"\n",
      "    Stack em python\n",
      "    \"\"\"\n",
      "    \n",
      "    def __init__(self):\n",
      "        \"\"\"\n",
      "        Construtor\n",
      "        \"\"\"\n",
      "        \n",
      "        self.stack = []\n",
      "        self.count = 0\n",
      "        \n",
      "    def push(self, element):\n",
      "        \"\"\"\n",
      "        Inserir um elemento no topo pilha\n",
      "        \"\"\"\n",
      "        \n",
      "        self.stack.append(element)\n",
      "        self.count += 1\n",
      "        \n",
      "    def pop(self):\n",
      "        \"\"\"\n",
      "        Remover o elemento do topo da pilha.\n",
      "        \"\"\"\n",
      "        \n",
      "        if not self.empty():\n",
      "            self.stack.pop(self.count -1)\n",
      "            self.count -= 1\n",
      "        \n",
      "    def top(self):\n",
      "        \"\"\"\n",
      "        Pegar o ultimo elemento da pilha.\n",
      "        \"\"\"\n",
      "        \n",
      "        if not self.empty():\n",
      "            return self.stack[-1]\n",
      "    \n",
      "        return None\n",
      "    \n",
      "    def empty(self):\n",
      "        \"\"\"\n",
      "        Verificar se a pilha ta vazia.\n",
      "        \"\"\"\n",
      "        \n",
      "        if self.count == 0:\n",
      "            return True\n",
      "        \n",
      "        return False\n",
      "    \n",
      "    def length(self):\n",
      "        \"\"\"\n",
      "        Retorna o tamanho da pilha\n",
      "        \"\"\"\n",
      "        \n",
      "        return self.count\n"
     ]
    }
   ],
   "source": [
    "!cat stack.py"
   ]
  },
  {
   "cell_type": "code",
   "execution_count": 4,
   "metadata": {},
   "outputs": [
    {
     "name": "stdout",
     "output_type": "stream",
     "text": [
      "class Stack(object):\n",
      "    \"\"\"\n",
      "    Stack em python\n",
      "    \"\"\"\n",
      "    \n",
      "    def __init__(self):\n",
      "        \"\"\"\n",
      "        Construtor\n",
      "        \"\"\"\n",
      "        \n",
      "        self.stack = []\n",
      "        self.count = 0\n",
      "        \n",
      "    def push(self, element):\n",
      "        \"\"\"\n",
      "        Inserir um elemento no topo pilha\n",
      "        \"\"\"\n",
      "        \n",
      "        self.stack.append(element)\n",
      "        self.count += 1\n",
      "        \n",
      "    def pop(self):\n",
      "        \"\"\"\n",
      "        Remover o elemento do topo da pilha.\n",
      "        \"\"\"\n",
      "        \n",
      "        if not self.empty():\n",
      "            self.stack.pop(self.count -1)\n",
      "            self.count -= 1\n",
      "        \n",
      "    def top(self):\n",
      "        \"\"\"\n",
      "        Pegar o ultimo elemento da pilha.\n",
      "        \"\"\"\n",
      "        \n",
      "        if not self.empty():\n",
      "            return self.stack[-1]\n",
      "    \n",
      "        return None\n",
      "    \n",
      "    def empty(self):\n",
      "        \"\"\"\n",
      "        Verificar se a pilha ta vazia.\n",
      "        \"\"\"\n",
      "        \n",
      "        if self.count == 0:\n",
      "            return True\n",
      "        \n",
      "        return False\n",
      "    \n",
      "    def length(self):\n",
      "        \"\"\"\n",
      "        Retorna o tamanho da pilha\n",
      "        \"\"\"\n",
      "        \n",
      "        return self.count\n",
      "\n",
      "10\n"
     ]
    }
   ],
   "source": [
    "import stack\n",
    "import inspect\n",
    "source_DF = inspect.getsource(stack)\n",
    "print(source_DF)\n",
    "\n",
    "pilha = stack.Stack()\n",
    "pilha.push(10)\n",
    "print(pilha.top())"
   ]
  },
  {
   "cell_type": "code",
   "execution_count": 2,
   "metadata": {},
   "outputs": [],
   "source": [
    "stack = Stack()\n",
    "stack.push(1)\n",
    "stack.push(2)\n",
    "stack.push(3)"
   ]
  },
  {
   "cell_type": "code",
   "execution_count": 3,
   "metadata": {},
   "outputs": [
    {
     "name": "stdout",
     "output_type": "stream",
     "text": [
      "3\n",
      "False\n"
     ]
    }
   ],
   "source": [
    "print(stack.top())\n",
    "print(stack.empty())"
   ]
  },
  {
   "cell_type": "code",
   "execution_count": 4,
   "metadata": {},
   "outputs": [],
   "source": [
    "stack.pop()"
   ]
  },
  {
   "cell_type": "code",
   "execution_count": 5,
   "metadata": {},
   "outputs": [
    {
     "name": "stdout",
     "output_type": "stream",
     "text": [
      "2\n",
      "2\n"
     ]
    }
   ],
   "source": [
    "print(stack.length())\n",
    "print(stack.top())"
   ]
  },
  {
   "cell_type": "code",
   "execution_count": 6,
   "metadata": {},
   "outputs": [],
   "source": [
    "stack.pop()\n",
    "stack.pop()"
   ]
  },
  {
   "cell_type": "code",
   "execution_count": 7,
   "metadata": {},
   "outputs": [
    {
     "name": "stdout",
     "output_type": "stream",
     "text": [
      "None\n",
      "True\n"
     ]
    }
   ],
   "source": [
    "print(stack.top())\n",
    "print(stack.empty())"
   ]
  }
 ],
 "metadata": {
  "kernelspec": {
   "display_name": "Python 3",
   "language": "python",
   "name": "python3"
  },
  "language_info": {
   "codemirror_mode": {
    "name": "ipython",
    "version": 3
   },
   "file_extension": ".py",
   "mimetype": "text/x-python",
   "name": "python",
   "nbconvert_exporter": "python",
   "pygments_lexer": "ipython3",
   "version": "3.8.2"
  }
 },
 "nbformat": 4,
 "nbformat_minor": 4
}
